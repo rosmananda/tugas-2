{
  "nbformat": 4,
  "nbformat_minor": 0,
  "metadata": {
    "colab": {
      "provenance": [],
      "authorship_tag": "ABX9TyMd3wt6ap2SlYAWfdOswOJc",
      "include_colab_link": true
    },
    "kernelspec": {
      "name": "python3",
      "display_name": "Python 3"
    },
    "language_info": {
      "name": "python"
    }
  },
  "cells": [
    {
      "cell_type": "markdown",
      "metadata": {
        "id": "view-in-github",
        "colab_type": "text"
      },
      "source": [
        "<a href=\"https://colab.research.google.com/github/rosmananda/tugas-2/blob/main/Untitled1.ipynb\" target=\"_parent\"><img src=\"https://colab.research.google.com/assets/colab-badge.svg\" alt=\"Open In Colab\"/></a>"
      ]
    },
    {
      "cell_type": "code",
      "source": [
        "# Install PyPDF2 and NLTK libraries if not already installed\n",
        "!pip install PyPDF2\n",
        "!pip install nltk\n",
        "\n",
        "# Import required libraries\n",
        "import PyPDF2\n",
        "import re\n",
        "import nltk\n",
        "from nltk.tokenize import word_tokenize\n",
        "nltk.download('punkt')\n",
        "\n",
        "# Baca file PDF\n",
        "pdf_file_path = \"jarkom.pdf\"  # Make sure this is the correct path to your file\n",
        "\n",
        "try:\n",
        "    pdf_reader = PyPDF2.PdfReader(pdf_file_path)\n",
        "\n",
        "    # Mengambil semua teks dari file PDF\n",
        "    text = \"\"\n",
        "    for page in range(len(pdf_reader.pages)):\n",
        "        text += pdf_reader.pages[page].extract_text()\n",
        "\n",
        "    # Menampilkan teks asli dari PDF\n",
        "    print(\"Teks asli dari PDF:\\n\", text)\n",
        "\n",
        "    # Tahap 1: Case folding (mengubah teks menjadi huruf kecil)\n",
        "    text_casefolded = text.lower()\n",
        "\n",
        "    # Tahap 2: Menghapus angka, tanda baca dan tokenisasi kata\n",
        "    text_cleaned = re.sub(r'\\d+', '', text_casefolded)  # Hapus angka\n",
        "    text_cleaned = re.sub(r'[^\\w\\s]', '', text_cleaned)  # Hapus tanda baca\n",
        "\n",
        "    # Tokenisasi kata (word tokenization)\n",
        "    tokens = word_tokenize(text_cleaned)\n",
        "\n",
        "    # Menampilkan hasil setelah case folding dan pembersihan\n",
        "    print(\"\\nHasil setelah case folding dan pembersihan:\\n\", ' '.join(tokens))\n",
        "\n",
        "    # Buat PDF dengan Nama dan NIM\n",
        "    nama = \"Nanda Rosma Anwar\"\n",
        "    nim = \"312110291\"\n",
        "    output_pdf = \"hasil_jarkom_nama_nim.pdf\"\n",
        "    buat_pdf(nama, nim, output_pdf)\n",
        "\n",
        "    # Simpan hasil teks yang telah di-case folding ke dalam file teks\n",
        "    with open(\"hasil_casefolding_jarkom.txt\", \"w\") as file_output:\n",
        "        file_output.write(' '.join(tokens))\n",
        "\n",
        "    print(\"\\nTeks telah disimpan ke dalam file 'hasil_casefolding_jarkom.txt'\")\n",
        "\n",
        "except FileNotFoundError:\n",
        "    print(f\"File not found: {pdf_file_path}\")\n",
        "except Exception as e:\n",
        "    print(f\"An error occurred: {e}\")"
      ],
      "metadata": {
        "colab": {
          "base_uri": "https://localhost:8080/"
        },
        "id": "NtwyiVOxr6R9",
        "outputId": "81286e68-75ce-46b8-b9cc-641f86420fbf"
      },
      "execution_count": 4,
      "outputs": [
        {
          "output_type": "stream",
          "name": "stdout",
          "text": [
            "Requirement already satisfied: PyPDF2 in /usr/local/lib/python3.10/dist-packages (3.0.1)\n",
            "Requirement already satisfied: nltk in /usr/local/lib/python3.10/dist-packages (3.8.1)\n",
            "Requirement already satisfied: click in /usr/local/lib/python3.10/dist-packages (from nltk) (8.1.7)\n",
            "Requirement already satisfied: joblib in /usr/local/lib/python3.10/dist-packages (from nltk) (1.4.2)\n",
            "Requirement already satisfied: regex>=2021.8.3 in /usr/local/lib/python3.10/dist-packages (from nltk) (2024.9.11)\n",
            "Requirement already satisfied: tqdm in /usr/local/lib/python3.10/dist-packages (from nltk) (4.66.5)\n",
            "Teks asli dari PDF:\n",
            " Jaringan Komputer Konsep dasar jaringan komputer adalah serangkaian sistem yang berpadu dari \n",
            "beberapa sub sistem dasar. Sub sistemnya terdiri dari sistem komunikasi dan protokol komunikasi. \n",
            "Sistem tersebut membentuk sebuah saluran yang terkait dan saling m endukung untuk tujuan \n",
            "sharing data atau sharing perangkat. Sistem komunikasi merupakan perpaduan dari beberapa \n",
            "sistem. Sistem tersebut tebentuk dari transmisi sinyal, pembawa sinyal atau yang biasa disebut \n",
            "carrierdan protokol komunikasi. Transmisi sinyalbi asa berbebentuk analog maupun digital. \n",
            "Trasmisi sinyal memerlukan media sebagai penerus sinyal (carrier), dapat berupa kabel, \n",
            "gelombang radio (RF), cahaya dan lainlain. Untuk dapat menyampaikan data, sistem komunikasi \n",
            "juga memerlukan aturan (rule/protocol) . Protokol komunikasi (communication protocol) adalah \n",
            "suatu aturan yang dipakai sebagai pengontrol pertukaran data antar simpul (node).Contohnya \n",
            "adalah komputer. Pengaturan tersebut mencakup proses inisialisasi, verifikasi, cara berkomunikasi \n",
            "dan cara mengakhiri komunikasi. Jaringan komputer (computer network) dapat didefinisikan \n",
            "sebagai dua atau lebih komputer yang mampu dihubungkan dengan menggunakan sebuah siste m \n",
            "komunikasi. Secara konseptual, jaringan komputer adalah suatu jaringan kerja berbasis pada \n",
            "komputer yang terdiri dari simpul -simpul (nodes) yang terjalin satu sama lain, baik menggunakan \n",
            "wire (kabel) ataupun Wireless (tanpa kabel). Setiap simpul akan ber peran sebagai stasiun kerja \n",
            "(workstation) yang berfungsi sebagai penyedia layanan (service provider)server untuk mengatur \n",
            "fungsi -fungsi tertentu dari simpul -simpul lainnya. Perbedaan mendasar dari konsep jaringan \n",
            "komputer dan - komunikasi data adalah komun ikasi data condong pada keandalan dan efisiensi \n",
            "transfer sejumlah bit -bit dari satu titik ke tujuannya. Sedangkan Jaringan komputer memerlukan \n",
            "atau mempergunakan tekhnik komunikasi data, namun jaringan komputer lebih mementingkan arti \n",
            "dari tiap bit dalam p roses pengiriman hingga diterima di tujuannya.  \n",
            "\n",
            "Hasil setelah case folding dan pembersihan:\n",
            " jaringan komputer konsep dasar jaringan komputer adalah serangkaian sistem yang berpadu dari beberapa sub sistem dasar sub sistemnya terdiri dari sistem komunikasi dan protokol komunikasi sistem tersebut membentuk sebuah saluran yang terkait dan saling m endukung untuk tujuan sharing data atau sharing perangkat sistem komunikasi merupakan perpaduan dari beberapa sistem sistem tersebut tebentuk dari transmisi sinyal pembawa sinyal atau yang biasa disebut carrierdan protokol komunikasi transmisi sinyalbi asa berbebentuk analog maupun digital trasmisi sinyal memerlukan media sebagai penerus sinyal carrier dapat berupa kabel gelombang radio rf cahaya dan lainlain untuk dapat menyampaikan data sistem komunikasi juga memerlukan aturan ruleprotocol protokol komunikasi communication protocol adalah suatu aturan yang dipakai sebagai pengontrol pertukaran data antar simpul nodecontohnya adalah komputer pengaturan tersebut mencakup proses inisialisasi verifikasi cara berkomunikasi dan cara mengakhiri komunikasi jaringan komputer computer network dapat didefinisikan sebagai dua atau lebih komputer yang mampu dihubungkan dengan menggunakan sebuah siste m komunikasi secara konseptual jaringan komputer adalah suatu jaringan kerja berbasis pada komputer yang terdiri dari simpul simpul nodes yang terjalin satu sama lain baik menggunakan wire kabel ataupun wireless tanpa kabel setiap simpul akan ber peran sebagai stasiun kerja workstation yang berfungsi sebagai penyedia layanan service providerserver untuk mengatur fungsi fungsi tertentu dari simpul simpul lainnya perbedaan mendasar dari konsep jaringan komputer dan komunikasi data adalah komun ikasi data condong pada keandalan dan efisiensi transfer sejumlah bit bit dari satu titik ke tujuannya sedangkan jaringan komputer memerlukan atau mempergunakan tekhnik komunikasi data namun jaringan komputer lebih mementingkan arti dari tiap bit dalam p roses pengiriman hingga diterima di tujuannya\n",
            "\n",
            "Teks telah disimpan ke dalam file 'hasil_casefolding_jarkom.txt'\n"
          ]
        },
        {
          "output_type": "stream",
          "name": "stderr",
          "text": [
            "[nltk_data] Downloading package punkt to /root/nltk_data...\n",
            "[nltk_data]   Package punkt is already up-to-date!\n"
          ]
        }
      ]
    }
  ]
}